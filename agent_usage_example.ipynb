{
  "nbformat": 4,
  "nbformat_minor": 0,
  "metadata": {
    "colab": {
      "provenance": [],
      "toc_visible": true,
      "authorship_tag": "ABX9TyMFqyzfWxiVzKfDF6rfyjoh",
      "include_colab_link": true
    },
    "kernelspec": {
      "name": "python3",
      "display_name": "Python 3"
    },
    "language_info": {
      "name": "python"
    }
  },
  "cells": [
    {
      "cell_type": "markdown",
      "metadata": {
        "id": "view-in-github",
        "colab_type": "text"
      },
      "source": [
        "<a href=\"https://colab.research.google.com/github/thaismenegaldi/web_rag_agent/blob/feat%2Fagent/agent_usage_example.ipynb\" target=\"_parent\"><img src=\"https://colab.research.google.com/assets/colab-badge.svg\" alt=\"Open In Colab\"/></a>"
      ]
    },
    {
      "cell_type": "markdown",
      "source": [
        "# 🧙‍♂️ Ask the Wizarding World - usage example"
      ],
      "metadata": {
        "id": "m6RV_nENz7Mu"
      }
    },
    {
      "cell_type": "code",
      "source": [
        "!git clone https://github.com/thaismenegaldi/web_rag_agent.git"
      ],
      "metadata": {
        "colab": {
          "base_uri": "https://localhost:8080/"
        },
        "id": "7mF9m6yamsbO",
        "outputId": "4acd1632-9bc1-4b15-f9a2-2e1a265d0674"
      },
      "execution_count": 1,
      "outputs": [
        {
          "output_type": "stream",
          "name": "stdout",
          "text": [
            "Cloning into 'web_rag_agent'...\n",
            "remote: Enumerating objects: 288, done.\u001b[K\n",
            "remote: Counting objects: 100% (288/288), done.\u001b[K\n",
            "remote: Compressing objects: 100% (141/141), done.\u001b[K\n",
            "remote: Total 288 (delta 166), reused 251 (delta 129), pack-reused 0 (from 0)\u001b[K\n",
            "Receiving objects: 100% (288/288), 2.99 MiB | 22.52 MiB/s, done.\n",
            "Resolving deltas: 100% (166/166), done.\n"
          ]
        }
      ]
    },
    {
      "cell_type": "code",
      "source": [
        "import os\n",
        "from io import BytesIO\n",
        "\n",
        "from IPython.display import Markdown, display\n",
        "from PIL import Image"
      ],
      "metadata": {
        "id": "pSvv0_KtrXfB"
      },
      "execution_count": 2,
      "outputs": []
    },
    {
      "cell_type": "code",
      "source": [
        "# Change working directory to the project\n",
        "os.chdir(\"/content/web_rag_agent\")"
      ],
      "metadata": {
        "id": "--ya7_oid4t7"
      },
      "execution_count": 3,
      "outputs": []
    },
    {
      "cell_type": "code",
      "source": [
        "!pip install -q -r requirements.txt"
      ],
      "metadata": {
        "colab": {
          "base_uri": "https://localhost:8080/"
        },
        "id": "l3_LLHiUgzyj",
        "outputId": "9825afd3-90fe-4aea-cefa-153bafa5379c"
      },
      "execution_count": 4,
      "outputs": [
        {
          "output_type": "stream",
          "name": "stdout",
          "text": [
            "\u001b[2K     \u001b[90m━━━━━━━━━━━━━━━━━━━━━━━━━━━━━━━━━━━━━━━━\u001b[0m \u001b[32m43.5/43.5 kB\u001b[0m \u001b[31m3.0 MB/s\u001b[0m eta \u001b[36m0:00:00\u001b[0m\n",
            "\u001b[2K   \u001b[90m━━━━━━━━━━━━━━━━━━━━━━━━━━━━━━━━━━━━━━━━\u001b[0m \u001b[32m30.7/30.7 MB\u001b[0m \u001b[31m44.2 MB/s\u001b[0m eta \u001b[36m0:00:00\u001b[0m\n",
            "\u001b[2K   \u001b[90m━━━━━━━━━━━━━━━━━━━━━━━━━━━━━━━━━━━━━━━━\u001b[0m \u001b[32m124.9/124.9 kB\u001b[0m \u001b[31m9.9 MB/s\u001b[0m eta \u001b[36m0:00:00\u001b[0m\n",
            "\u001b[2K   \u001b[90m━━━━━━━━━━━━━━━━━━━━━━━━━━━━━━━━━━━━━━━━\u001b[0m \u001b[32m1.0/1.0 MB\u001b[0m \u001b[31m49.7 MB/s\u001b[0m eta \u001b[36m0:00:00\u001b[0m\n",
            "\u001b[2K   \u001b[90m━━━━━━━━━━━━━━━━━━━━━━━━━━━━━━━━━━━━━━━━\u001b[0m \u001b[32m2.5/2.5 MB\u001b[0m \u001b[31m68.8 MB/s\u001b[0m eta \u001b[36m0:00:00\u001b[0m\n",
            "\u001b[2K   \u001b[90m━━━━━━━━━━━━━━━━━━━━━━━━━━━━━━━━━━━━━━━━\u001b[0m \u001b[32m420.1/420.1 kB\u001b[0m \u001b[31m27.0 MB/s\u001b[0m eta \u001b[36m0:00:00\u001b[0m\n",
            "\u001b[2K   \u001b[90m━━━━━━━━━━━━━━━━━━━━━━━━━━━━━━━━━━━━━━━━\u001b[0m \u001b[32m139.6/139.6 kB\u001b[0m \u001b[31m9.7 MB/s\u001b[0m eta \u001b[36m0:00:00\u001b[0m\n",
            "\u001b[2K   \u001b[90m━━━━━━━━━━━━━━━━━━━━━━━━━━━━━━━━━━━━━━━━\u001b[0m \u001b[32m41.9/41.9 kB\u001b[0m \u001b[31m3.1 MB/s\u001b[0m eta \u001b[36m0:00:00\u001b[0m\n",
            "\u001b[2K   \u001b[90m━━━━━━━━━━━━━━━━━━━━━━━━━━━━━━━━━━━━━━━━\u001b[0m \u001b[32m47.1/47.1 kB\u001b[0m \u001b[31m3.4 MB/s\u001b[0m eta \u001b[36m0:00:00\u001b[0m\n",
            "\u001b[2K   \u001b[90m━━━━━━━━━━━━━━━━━━━━━━━━━━━━━━━━━━━━━━━━\u001b[0m \u001b[32m302.3/302.3 kB\u001b[0m \u001b[31m21.8 MB/s\u001b[0m eta \u001b[36m0:00:00\u001b[0m\n",
            "\u001b[2K   \u001b[90m━━━━━━━━━━━━━━━━━━━━━━━━━━━━━━━━━━━━━━━━\u001b[0m \u001b[32m84.7/84.7 kB\u001b[0m \u001b[31m7.8 MB/s\u001b[0m eta \u001b[36m0:00:00\u001b[0m\n",
            "\u001b[2K   \u001b[90m━━━━━━━━━━━━━━━━━━━━━━━━━━━━━━━━━━━━━━━━\u001b[0m \u001b[32m345.6/345.6 kB\u001b[0m \u001b[31m25.4 MB/s\u001b[0m eta \u001b[36m0:00:00\u001b[0m\n",
            "\u001b[2K   \u001b[90m━━━━━━━━━━━━━━━━━━━━━━━━━━━━━━━━━━━━━━━━\u001b[0m \u001b[32m223.6/223.6 kB\u001b[0m \u001b[31m18.0 MB/s\u001b[0m eta \u001b[36m0:00:00\u001b[0m\n",
            "\u001b[2K   \u001b[90m━━━━━━━━━━━━━━━━━━━━━━━━━━━━━━━━━━━━━━━━\u001b[0m \u001b[32m363.4/363.4 MB\u001b[0m \u001b[31m1.4 MB/s\u001b[0m eta \u001b[36m0:00:00\u001b[0m\n",
            "\u001b[2K   \u001b[90m━━━━━━━━━━━━━━━━━━━━━━━━━━━━━━━━━━━━━━━━\u001b[0m \u001b[32m13.8/13.8 MB\u001b[0m \u001b[31m70.1 MB/s\u001b[0m eta \u001b[36m0:00:00\u001b[0m\n",
            "\u001b[2K   \u001b[90m━━━━━━━━━━━━━━━━━━━━━━━━━━━━━━━━━━━━━━━━\u001b[0m \u001b[32m24.6/24.6 MB\u001b[0m \u001b[31m75.5 MB/s\u001b[0m eta \u001b[36m0:00:00\u001b[0m\n",
            "\u001b[2K   \u001b[90m━━━━━━━━━━━━━━━━━━━━━━━━━━━━━━━━━━━━━━━━\u001b[0m \u001b[32m883.7/883.7 kB\u001b[0m \u001b[31m44.5 MB/s\u001b[0m eta \u001b[36m0:00:00\u001b[0m\n",
            "\u001b[2K   \u001b[90m━━━━━━━━━━━━━━━━━━━━━━━━━━━━━━━━━━━━━━━━\u001b[0m \u001b[32m664.8/664.8 MB\u001b[0m \u001b[31m1.2 MB/s\u001b[0m eta \u001b[36m0:00:00\u001b[0m\n",
            "\u001b[2K   \u001b[90m━━━━━━━━━━━━━━━━━━━━━━━━━━━━━━━━━━━━━━━━\u001b[0m \u001b[32m211.5/211.5 MB\u001b[0m \u001b[31m5.5 MB/s\u001b[0m eta \u001b[36m0:00:00\u001b[0m\n",
            "\u001b[2K   \u001b[90m━━━━━━━━━━━━━━━━━━━━━━━━━━━━━━━━━━━━━━━━\u001b[0m \u001b[32m56.3/56.3 MB\u001b[0m \u001b[31m10.3 MB/s\u001b[0m eta \u001b[36m0:00:00\u001b[0m\n",
            "\u001b[2K   \u001b[90m━━━━━━━━━━━━━━━━━━━━━━━━━━━━━━━━━━━━━━━━\u001b[0m \u001b[32m127.9/127.9 MB\u001b[0m \u001b[31m7.1 MB/s\u001b[0m eta \u001b[36m0:00:00\u001b[0m\n",
            "\u001b[2K   \u001b[90m━━━━━━━━━━━━━━━━━━━━━━━━━━━━━━━━━━━━━━━━\u001b[0m \u001b[32m207.5/207.5 MB\u001b[0m \u001b[31m6.5 MB/s\u001b[0m eta \u001b[36m0:00:00\u001b[0m\n",
            "\u001b[2K   \u001b[90m━━━━━━━━━━━━━━━━━━━━━━━━━━━━━━━━━━━━━━━━\u001b[0m \u001b[32m21.1/21.1 MB\u001b[0m \u001b[31m82.2 MB/s\u001b[0m eta \u001b[36m0:00:00\u001b[0m\n",
            "\u001b[2K   \u001b[90m━━━━━━━━━━━━━━━━━━━━━━━━━━━━━━━━━━━━━━━━\u001b[0m \u001b[32m194.8/194.8 kB\u001b[0m \u001b[31m13.3 MB/s\u001b[0m eta \u001b[36m0:00:00\u001b[0m\n",
            "\u001b[2K   \u001b[90m━━━━━━━━━━━━━━━━━━━━━━━━━━━━━━━━━━━━━━━━\u001b[0m \u001b[32m50.9/50.9 kB\u001b[0m \u001b[31m3.7 MB/s\u001b[0m eta \u001b[36m0:00:00\u001b[0m\n",
            "\u001b[?25h"
          ]
        }
      ]
    },
    {
      "cell_type": "code",
      "source": [
        "# Create .env file with APIs credentials\n",
        "with open('/content/web_rag_agent/.env', 'w') as f:\n",
        "    f.write(\"GROQ_API_KEY=<YOUR-CREDENTIAL>\\n\")\n",
        "    f.write(\"SERPAPI_KEY=YOUR-CREDENTIAL\\n\")"
      ],
      "metadata": {
        "id": "8zMhm34Er6sF"
      },
      "execution_count": 5,
      "outputs": []
    },
    {
      "cell_type": "code",
      "source": [
        "from dotenv import load_dotenv\n",
        "\n",
        "load_dotenv(\"/content/web_rag_agent/.env\")"
      ],
      "metadata": {
        "colab": {
          "base_uri": "https://localhost:8080/"
        },
        "id": "n2r7cKpTr4ve",
        "outputId": "683d5f5e-cf5d-46f9-9782-677b012cd3c2"
      },
      "execution_count": 6,
      "outputs": [
        {
          "output_type": "execute_result",
          "data": {
            "text/plain": [
              "True"
            ]
          },
          "metadata": {},
          "execution_count": 6
        }
      ]
    },
    {
      "cell_type": "code",
      "source": [
        "from retrievers.vector_retriever import VectorRetriever\n",
        "from agents.agent import RunAgent"
      ],
      "metadata": {
        "id": "rcJRGzrkd_DS"
      },
      "execution_count": 7,
      "outputs": []
    },
    {
      "cell_type": "code",
      "source": [
        "# Define paths to config file and source data\n",
        "config_path = \"/content/web_rag_agent/config/config.yml\"\n",
        "path_to_data = \"/content/web_rag_agent/data\""
      ],
      "metadata": {
        "id": "2q6rG6bFh8YF"
      },
      "execution_count": 8,
      "outputs": []
    },
    {
      "cell_type": "code",
      "source": [
        "# Initialize the VectorRetriever and load data\n",
        "vector_retriever = VectorRetriever(\n",
        "    path_to_data=path_to_data, config_path=config_path\n",
        ")\n",
        "retriever = vector_retriever.load_data()"
      ],
      "metadata": {
        "id": "AuC0m3gaiE83"
      },
      "execution_count": null,
      "outputs": []
    },
    {
      "cell_type": "code",
      "source": [
        "# Initialize the agent with the retriever and config file\n",
        "agent_graph = RunAgent(\n",
        "    retriever=retriever,\n",
        "    config_path=config_path,\n",
        ")"
      ],
      "metadata": {
        "id": "UVAqmwqtiJ-4"
      },
      "execution_count": 10,
      "outputs": []
    },
    {
      "cell_type": "code",
      "source": [
        "# Display agent diagram\n",
        "image_bytes = agent_graph.compiled_graph.get_graph(xray=True).draw_mermaid_png()\n",
        "image = Image.open(BytesIO(image_bytes))\n",
        "display(image)"
      ],
      "metadata": {
        "colab": {
          "base_uri": "https://localhost:8080/",
          "height": 694
        },
        "id": "MK6_0_Kjm_M6",
        "outputId": "9de4adf2-0f3e-4c55-a430-c7c0d970909c"
      },
      "execution_count": 11,
      "outputs": [
        {
          "output_type": "display_data",
          "data": {
            "text/plain": [
              "<PIL.PngImagePlugin.PngImageFile image mode=RGB size=272x677>"
            ],
            "image/png": "[encoded data removed]",
            "image/jpeg": "[encoded data removed]"
          },
          "metadata": {}
        }
      ]
    },
    {
      "cell_type": "code",
      "source": [
        "# RAG question\n",
        "question = \"Who is Snape?\"\n",
        "agent_output = agent_graph.run_agent(question=question)\n",
        "\n",
        "print(\"\\n\")\n",
        "display(Markdown(agent_output))"
      ],
      "metadata": {
        "colab": {
          "base_uri": "https://localhost:8080/",
          "height": 737
        },
        "id": "-UDjZdt4gw0m",
        "outputId": "53431710-890a-4e0d-e7b9-47782411a9ca"
      },
      "execution_count": 12,
      "outputs": [
        {
          "output_type": "stream",
          "name": "stderr",
          "text": [
            "\n",
            "2025-04-08 00:09:22 - INFO - [AGENT STEP] Route user's question\n",
            "\n",
            "2025-04-08 00:09:22 - INFO - HTTP Request: POST https://api.groq.com/openai/v1/chat/completions \"HTTP/1.1 200 OK\"\n",
            "\n",
            "2025-04-08 00:09:22 - INFO - Route question to rag\n",
            "\n",
            "2025-04-08 00:09:22 - INFO - [AGENT STEP] Retrieve\n",
            "\n",
            "2025-04-08 00:09:22 - INFO - Checking documents relevance to the question\n",
            "\n",
            "2025-04-08 00:09:22 - INFO - HTTP Request: POST https://api.groq.com/openai/v1/chat/completions \"HTTP/1.1 200 OK\"\n",
            "\n",
            "2025-04-08 00:09:22 - INFO - Grade: document relevant!\n",
            "\n",
            "2025-04-08 00:09:22 - INFO - HTTP Request: POST https://api.groq.com/openai/v1/chat/completions \"HTTP/1.1 200 OK\"\n",
            "\n",
            "2025-04-08 00:09:23 - INFO - Grade: document not relevant!\n",
            "\n",
            "2025-04-08 00:09:23 - INFO - HTTP Request: POST https://api.groq.com/openai/v1/chat/completions \"HTTP/1.1 200 OK\"\n",
            "\n",
            "2025-04-08 00:09:23 - INFO - Grade: document relevant!\n",
            "\n",
            "2025-04-08 00:09:23 - INFO - HTTP Request: POST https://api.groq.com/openai/v1/chat/completions \"HTTP/1.1 200 OK\"\n",
            "\n",
            "2025-04-08 00:09:23 - INFO - Grade: document relevant!\n",
            "\n",
            "2025-04-08 00:09:23 - INFO - Assessing graded documents\n",
            "\n",
            "2025-04-08 00:09:23 - INFO - Decision: generate\n",
            "\n",
            "2025-04-08 00:09:23 - INFO - [AGENT STEP] Generate\n",
            "\n",
            "2025-04-08 00:09:23 - INFO - HTTP Request: POST https://api.groq.com/openai/v1/chat/completions \"HTTP/1.1 200 OK\"\n",
            "\n",
            "2025-04-08 00:09:23 - INFO - Grading generation\n",
            "\n",
            "2025-04-08 00:09:23 - INFO - Checking hallucination\n",
            "\n",
            "2025-04-08 00:09:24 - INFO - HTTP Request: POST https://api.groq.com/openai/v1/chat/completions \"HTTP/1.1 200 OK\"\n",
            "\n",
            "2025-04-08 00:09:24 - INFO - Decision: generation is based on the documents\n",
            "\n",
            "2025-04-08 00:09:24 - INFO - Checking generation with user's question\n",
            "\n",
            "2025-04-08 00:09:24 - INFO - HTTP Request: POST https://api.groq.com/openai/v1/chat/completions \"HTTP/1.1 200 OK\"\n",
            "\n",
            "2025-04-08 00:09:24 - INFO - Decision: generation addresses user's question\n"
          ]
        },
        {
          "output_type": "stream",
          "name": "stdout",
          "text": [
            "\n",
            "\n"
          ]
        },
        {
          "output_type": "display_data",
          "data": {
            "text/plain": [
              "<IPython.core.display.Markdown object>"
            ],
            "text/markdown": "Snape is a teacher at Hogwarts School of Witchcraft and Wizardry. He teaches Potions and has cold, dark eyes. \n"
          },
          "metadata": {}
        }
      ]
    },
    {
      "cell_type": "code",
      "source": [
        "# RAG + web search question\n",
        "question = \"What are the forbidden spells at Hogwarts?\"\n",
        "agent_output = agent_graph.run_agent(question=question)\n",
        "\n",
        "print(\"\\n\")\n",
        "display(Markdown(agent_output))"
      ],
      "metadata": {
        "colab": {
          "base_uri": "https://localhost:8080/",
          "height": 805
        },
        "id": "UDPjhuLBiSGc",
        "outputId": "d2902d0f-f06c-488a-d894-3eada44d54d8"
      },
      "execution_count": 13,
      "outputs": [
        {
          "output_type": "stream",
          "name": "stderr",
          "text": [
            "\n",
            "2025-04-08 00:09:24 - INFO - [AGENT STEP] Route user's question\n",
            "\n",
            "2025-04-08 00:09:24 - INFO - HTTP Request: POST https://api.groq.com/openai/v1/chat/completions \"HTTP/1.1 200 OK\"\n",
            "\n",
            "2025-04-08 00:09:24 - INFO - Route question to rag\n",
            "\n",
            "2025-04-08 00:09:24 - INFO - [AGENT STEP] Retrieve\n",
            "\n",
            "2025-04-08 00:09:24 - INFO - Checking documents relevance to the question\n",
            "\n",
            "2025-04-08 00:09:24 - INFO - HTTP Request: POST https://api.groq.com/openai/v1/chat/completions \"HTTP/1.1 200 OK\"\n",
            "\n",
            "2025-04-08 00:09:24 - INFO - Grade: document not relevant!\n",
            "\n",
            "2025-04-08 00:09:25 - INFO - HTTP Request: POST https://api.groq.com/openai/v1/chat/completions \"HTTP/1.1 200 OK\"\n",
            "\n",
            "2025-04-08 00:09:25 - INFO - Grade: document not relevant!\n",
            "\n",
            "2025-04-08 00:09:25 - INFO - HTTP Request: POST https://api.groq.com/openai/v1/chat/completions \"HTTP/1.1 200 OK\"\n",
            "\n",
            "2025-04-08 00:09:25 - INFO - Grade: document not relevant!\n",
            "\n",
            "2025-04-08 00:09:25 - INFO - HTTP Request: POST https://api.groq.com/openai/v1/chat/completions \"HTTP/1.1 200 OK\"\n",
            "\n",
            "2025-04-08 00:09:25 - INFO - Grade: document not relevant!\n",
            "\n",
            "2025-04-08 00:09:25 - INFO - No relevant documents found!\n",
            "\n",
            "2025-04-08 00:09:25 - INFO - Assessing graded documents\n",
            "\n",
            "2025-04-08 00:09:25 - INFO - Decision: web search\n",
            "\n",
            "2025-04-08 00:09:25 - INFO - [AGENT STEP] Web search\n",
            "\n",
            "2025-04-08 00:09:25 - INFO - HTTP Request: POST https://api.groq.com/openai/v1/chat/completions \"HTTP/1.1 200 OK\"\n",
            "\n",
            "2025-04-08 00:09:26 - INFO - HTTP Request: POST https://api.groq.com/openai/v1/chat/completions \"HTTP/1.1 200 OK\"\n",
            "\n",
            "2025-04-08 00:09:26 - INFO - [AGENT STEP] Generate\n",
            "\n",
            "2025-04-08 00:09:26 - INFO - Grading generation\n",
            "\n",
            "2025-04-08 00:09:26 - INFO - Checking generation with user's question\n",
            "\n",
            "2025-04-08 00:09:26 - INFO - HTTP Request: POST https://api.groq.com/openai/v1/chat/completions \"HTTP/1.1 200 OK\"\n",
            "\n",
            "2025-04-08 00:09:26 - INFO - Decision: generation addresses user's question\n"
          ]
        },
        {
          "output_type": "stream",
          "name": "stdout",
          "text": [
            "\n",
            "\n"
          ]
        },
        {
          "output_type": "display_data",
          "data": {
            "text/plain": [
              "<IPython.core.display.Markdown object>"
            ],
            "text/markdown": "According to the Harry Potter Encyclopedia, the forbidden spells at Hogwarts are called the Unforgivable Curses. \n\nThese three Dark spells are illegal and incredibly powerful. They are:\n\n* **The Killing Curse (Avada Kedavra):** This curse instantly kills the victim with no way to block or counter it. \n* **The Imperius Curse:** This curse forces the victim to do the caster's bidding against their will.\n* **The Cruciatus Curse:** This curse inflicts excruciating pain on the victim. \n\n\n\n"
          },
          "metadata": {}
        }
      ]
    },
    {
      "cell_type": "code",
      "source": [
        "# Web search question\n",
        "question = \"What are the next games of Champions League?\"\n",
        "agent_output = agent_graph.run_agent(question=question)\n",
        "\n",
        "print(\"\\n\")\n",
        "display(Markdown(agent_output))"
      ],
      "metadata": {
        "colab": {
          "base_uri": "https://localhost:8080/",
          "height": 430
        },
        "id": "lDH70xvWiL7_",
        "outputId": "6b55305f-9ad5-4deb-a0de-e224a3e25541"
      },
      "execution_count": 14,
      "outputs": [
        {
          "output_type": "stream",
          "name": "stderr",
          "text": [
            "\n",
            "2025-04-08 00:09:26 - INFO - [AGENT STEP] Route user's question\n",
            "\n",
            "2025-04-08 00:09:26 - INFO - HTTP Request: POST https://api.groq.com/openai/v1/chat/completions \"HTTP/1.1 200 OK\"\n",
            "\n",
            "2025-04-08 00:09:26 - INFO - Route question to web search\n",
            "\n",
            "2025-04-08 00:09:26 - INFO - [AGENT STEP] Web search\n",
            "\n",
            "2025-04-08 00:09:26 - INFO - HTTP Request: POST https://api.groq.com/openai/v1/chat/completions \"HTTP/1.1 200 OK\"\n",
            "\n",
            "2025-04-08 00:09:27 - INFO - HTTP Request: POST https://api.groq.com/openai/v1/chat/completions \"HTTP/1.1 200 OK\"\n",
            "\n",
            "2025-04-08 00:09:27 - INFO - [AGENT STEP] Generate\n",
            "\n",
            "2025-04-08 00:09:27 - INFO - Grading generation\n",
            "\n",
            "2025-04-08 00:09:27 - INFO - Checking generation with user's question\n",
            "\n",
            "2025-04-08 00:09:27 - INFO - HTTP Request: POST https://api.groq.com/openai/v1/chat/completions \"HTTP/1.1 200 OK\"\n",
            "\n",
            "2025-04-08 00:09:27 - INFO - Decision: generation addresses user's question\n"
          ]
        },
        {
          "output_type": "stream",
          "name": "stdout",
          "text": [
            "\n",
            "\n"
          ]
        },
        {
          "output_type": "display_data",
          "data": {
            "text/plain": [
              "<IPython.core.display.Markdown object>"
            ],
            "text/markdown": "The next Champions League games are happening tomorrow:\n\n* **Bayern vs. Inter** at 3:00 PM\n* **Arsenal vs. Real Madrid** at 3:00 PM \n\n\nLet me know if you'd like to know about any other upcoming matches! \n"
          },
          "metadata": {}
        }
      ]
    }
  ]
}